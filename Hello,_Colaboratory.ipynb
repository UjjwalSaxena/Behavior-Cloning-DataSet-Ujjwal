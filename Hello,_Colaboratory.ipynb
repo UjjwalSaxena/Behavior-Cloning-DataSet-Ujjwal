{
  "nbformat": 4,
  "nbformat_minor": 0,
  "metadata": {
    "colab": {
      "name": "Hello, Colaboratory",
      "version": "0.3.2",
      "provenance": [],
      "collapsed_sections": []
    },
    "kernelspec": {
      "display_name": "Python 3",
      "name": "python3"
    },
    "accelerator": "GPU"
  },
  "cells": [
    {
      "cell_type": "markdown",
      "metadata": {
        "id": "view-in-github",
        "colab_type": "text"
      },
      "source": [
        "[View in Colaboratory](https://colab.research.google.com/github/UjjwalSaxena/Behavior-Cloning-DataSet-Ujjwal/blob/master/Hello,_Colaboratory.ipynb)"
      ]
    },
    {
      "metadata": {
        "id": "lY87UuKWD4wn",
        "colab_type": "code",
        "colab": {
          "base_uri": "https://localhost:8080/",
          "height": 17
        },
        "outputId": "b1339ddb-3118-44f3-b1f6-cd3dfc61b256"
      },
      "cell_type": "code",
      "source": [
        "import tensorflow as tf\n",
        "import cv2\n",
        "import numpy as np\n",
        "import glob"
      ],
      "execution_count": 1,
      "outputs": []
    },
    {
      "metadata": {
        "id": "2pjlaUxsEYZB",
        "colab_type": "code",
        "colab": {
          "base_uri": "https://localhost:8080/",
          "height": 136
        },
        "outputId": "d0dc8739-4d9c-4b62-978f-d11548b9c65d"
      },
      "cell_type": "code",
      "source": [
        "# !wget \"https://github.com/jorcus/CarND-Capstone-Dataset/archive/master.zip\"\n",
        "!ls -ltr"
      ],
      "execution_count": 48,
      "outputs": [
        {
          "output_type": "stream",
          "text": [
            "total 6560\r\n",
            "drwxr-xr-x 6 root root    4096 Oct  9  2017 TrafficLight_Detection-TensorFlowAPI-master\r\n",
            "drwxr-xr-x 1 root root    4096 May 21 17:02 datalab\r\n",
            "-rw-r--r-- 1 root root   84368 Jun  4 09:18 TrafficLight_Detection-TensorFlowAPI\r\n",
            "-rw-r--r-- 1 root root   80415 Jun  4 09:29 dataset-sdcnd-capstone.zip\r\n",
            "-rw-r--r-- 1 root root   51043 Jun  4 11:00 CarND-Capstone-Dataset.git\r\n",
            "-rw-r--r-- 1 root root 6468705 Jun  4 11:02 master.zip\r\n"
          ],
          "name": "stdout"
        }
      ]
    },
    {
      "metadata": {
        "id": "v9FTwLqxFFYm",
        "colab_type": "code",
        "colab": {
          "base_uri": "https://localhost:8080/",
          "height": 187
        },
        "outputId": "1d97a0e1-c219-4b00-a8b8-3c8c86def347"
      },
      "cell_type": "code",
      "source": [
        "# !unzip 'CarND-Capstone-Dataset-master/dataset.zip'\n",
        "!ls -ltr\n",
        "# !rm TrafficLight_Detection-TensorFlowAPI.1\n"
      ],
      "execution_count": 54,
      "outputs": [
        {
          "output_type": "stream",
          "text": [
            "total 6572\r\n",
            "drwxr-xr-x 2 root root    4096 Oct  1  2017 CarND-Capstone-Dataset-master\r\n",
            "drwxr-xr-x 5 root root    4096 Oct  1  2017 simulator\r\n",
            "drwxr-xr-x 6 root root    4096 Oct  1  2017 udacity-sdc\r\n",
            "drwxr-xr-x 6 root root    4096 Oct  9  2017 TrafficLight_Detection-TensorFlowAPI-master\r\n",
            "drwxr-xr-x 1 root root    4096 May 21 17:02 datalab\r\n",
            "-rw-r--r-- 1 root root   84368 Jun  4 09:18 TrafficLight_Detection-TensorFlowAPI\r\n",
            "-rw-r--r-- 1 root root   80415 Jun  4 09:29 dataset-sdcnd-capstone.zip\r\n",
            "-rw-r--r-- 1 root root   51043 Jun  4 11:00 CarND-Capstone-Dataset.git\r\n",
            "-rw-r--r-- 1 root root 6468705 Jun  4 11:02 master.zip\r\n"
          ],
          "name": "stdout"
        }
      ]
    },
    {
      "metadata": {
        "id": "H4IKVhPQH3Gv",
        "colab_type": "code",
        "colab": {
          "base_uri": "https://localhost:8080/",
          "height": 153
        },
        "outputId": "acea6073-e665-4cbc-beae-b80bbb9b3d78"
      },
      "cell_type": "code",
      "source": [
        "!ls -ltr\n",
        "# !unzip 'master.zip'\n",
        "# !tar -xvzf dataset-sdcnd-capstone.zip\n"
      ],
      "execution_count": 50,
      "outputs": [
        {
          "output_type": "stream",
          "text": [
            "total 6564\r\n",
            "drwxr-xr-x 2 root root    4096 Oct  1  2017 CarND-Capstone-Dataset-master\r\n",
            "drwxr-xr-x 6 root root    4096 Oct  9  2017 TrafficLight_Detection-TensorFlowAPI-master\r\n",
            "drwxr-xr-x 1 root root    4096 May 21 17:02 datalab\r\n",
            "-rw-r--r-- 1 root root   84368 Jun  4 09:18 TrafficLight_Detection-TensorFlowAPI\r\n",
            "-rw-r--r-- 1 root root   80415 Jun  4 09:29 dataset-sdcnd-capstone.zip\r\n",
            "-rw-r--r-- 1 root root   51043 Jun  4 11:00 CarND-Capstone-Dataset.git\r\n",
            "-rw-r--r-- 1 root root 6468705 Jun  4 11:02 master.zip\r\n"
          ],
          "name": "stdout"
        }
      ]
    },
    {
      "metadata": {
        "id": "RGuu0bBFGvTE",
        "colab_type": "code",
        "colab": {
          "base_uri": "https://localhost:8080/",
          "height": 119
        },
        "outputId": "7597ec45-1365-4b8a-d9fd-01d3f02872c5"
      },
      "cell_type": "code",
      "source": [
        "!ls -lrt\n"
      ],
      "execution_count": 23,
      "outputs": [
        {
          "output_type": "stream",
          "text": [
            "total 26236\r\n",
            "drwxr-xr-x 6 root root     4096 Oct  9  2017 TrafficLight_Detection-TensorFlowAPI-master\r\n",
            "drwxr-xr-x 1 root root     4096 May 21 17:02 datalab\r\n",
            "-rw-r--r-- 1 root root    84368 Jun  4 09:18 TrafficLight_Detection-TensorFlowAPI\r\n",
            "-rw-r--r-- 1 root root 26674950 Jun  4 09:26 master.zip\r\n",
            "-rw-r--r-- 1 root root    80415 Jun  4 09:29 dataset-sdcnd-capstone.zip\r\n"
          ],
          "name": "stdout"
        }
      ]
    },
    {
      "metadata": {
        "id": "E7aE5z_pdPuq",
        "colab_type": "code",
        "colab": {
          "base_uri": "https://localhost:8080/",
          "height": 17
        },
        "outputId": "c782c13b-4ced-4fc7-e957-660f9ca0ab7b"
      },
      "cell_type": "code",
      "source": [
        "folders=['green', 'red', 'yellow']\n",
        "green=[]\n",
        "red=[]\n",
        "yellow=[]\n",
        "\n",
        "\n",
        "\n",
        "for i in range (len(folders)):\n",
        "  path= glob.glob('udacity-sdc/'+folders[i]+'/*jpg')\n",
        "  for image_path in path:\n",
        "    eval(folders[i]+'.append(cv2.imread(image_path))')\n",
        "    "
      ],
      "execution_count": 59,
      "outputs": []
    },
    {
      "metadata": {
        "id": "gSkGTDm_gLug",
        "colab_type": "code",
        "colab": {
          "base_uri": "https://localhost:8080/",
          "height": 88
        },
        "outputId": "116f90db-82ed-48c6-fef6-a9ba172e177f"
      },
      "cell_type": "code",
      "source": [
        "sorted_images=[green, red, yellow]\n",
        "features_green=[]\n",
        "features_red=[]\n",
        "features_yellow=[]\n",
        "\n",
        "features=[features_green,features_red,features_yellow]\n",
        "\n",
        "for j in range(len(sorted_images)):\n",
        "  type_of_image=sorted_images[j]\n",
        "  for i in range(len(type_of_image)):\n",
        "    image= np.copy(type_of_image[i])\n",
        "    features[j].append(np.mean(image))\n",
        "  print(features[j])  \n",
        "    "
      ],
      "execution_count": 66,
      "outputs": [
        {
          "output_type": "stream",
          "text": [
            "[154.3266237745098, 156.0400888480392, 137.03273590686274, 125.00055147058823, 151.63665747549018, 151.39319852941176, 155.31230085784313, 153.91023284313727, 142.72313112745098, 168.93405330882354, 147.16236213235294, 140.12201286764707, 151.74425551470588, 151.7075980392157, 152.63003982843136, 155.68448223039215, 151.80199142156863, 145.47287071078432, 137.03273590686274, 190.68325674019607, 152.45398284313725, 139.18181678921567, 153.41416973039216, 152.5212162990196, 142.2964307598039, 134.94967830882354, 139.73504901960786, 139.8521292892157, 151.65850183823528, 148.04713541666666, 152.78880208333334, 143.3112132352941, 152.12598039215686, 153.59679840686275, 149.80732230392158, 155.56686580882354, 138.70386029411765, 139.2682444852941, 137.63953737745098, 152.63003982843136, 152.50989583333333, 116.91027879901961, 137.55675551470588, 145.88867953431372, 148.1880667892157, 135.0047487745098, 152.36251531862746, 137.04091605392156, 145.35839460784314, 141.88079044117646, 156.82720588235293, 141.95986519607843, 160.44108455882352, 137.61070772058824, 160.73772977941175, 145.63723958333333, 139.22642463235294, 162.79580269607843, 164.74934129901962, 141.46073835784313, 152.19413296568626, 148.1880667892157, 137.18515625, 152.74702818627452, 151.2085631127451, 154.98799019607844, 153.41416973039216, 137.02251838235293, 160.4289368872549, 113.55271139705883, 151.75163909313724, 137.61070772058824, 155.78020833333332, 149.55284926470588, 152.65625, 148.34854473039215, 139.41836703431372, 151.65850183823528, 151.33598345588234, 151.49497549019608, 151.5393382352941, 151.47976409313725, 139.3650275735294, 148.79051776960785, 142.24301470588236, 147.55732230392158, 134.19466911764707, 142.22182904411764, 172.6339767156863, 148.1300704656863, 137.2469056372549, 151.67279411764707, 143.9072457107843, 136.97245710784313]\n",
            "[118.38834252450981, 145.19103860294118, 115.00828737745098, 145.62143075980393, 127.95235906862744, 144.45445772058824, 145.24220281862745, 145.6757506127451, 126.60223651960784, 124.13579963235294, 122.28026960784314, 139.0821844362745, 126.93022365196079, 146.6510569852941, 115.58082107843137, 145.19270833333334, 127.14295343137255, 121.52614889705882, 144.45232843137254, 144.65683210784314, 113.34761029411764, 148.22230392156862, 126.93065257352941, 132.48359375, 127.17446384803921, 147.13647365196078, 125.73514093137256]\n",
            "[144.59851409313725, 144.1345588235294, 144.08849571078431, 145.9945925245098, 144.1345588235294, 144.1325367647059, 144.20113357843138, 144.06564031862746, 109.18615196078431, 139.40732230392157, 137.84067095588236, 143.44549632352943, 144.05813419117646, 144.4357536764706, 128.77660845588235, 145.04375, 145.44146752450982, 144.59851409313725, 144.05813419117646, 144.33763786764706, 127.93238357843137, 147.2187806372549, 145.2470894607843, 142.65245098039216]\n"
          ],
          "name": "stdout"
        }
      ]
    }
  ]
}